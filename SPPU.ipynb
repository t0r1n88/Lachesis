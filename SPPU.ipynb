{
 "cells": [
  {
   "cell_type": "code",
   "execution_count": null,
   "id": "fe9cfa87",
   "metadata": {},
   "outputs": [],
   "source": [
    "\"\"\"\n",
    "Обработка результатов опросника Сфера профессиональных предпочтений учащихся. (модификация Г. В. Резапкиной)\n",
    "\"\"\""
   ]
  },
  {
   "cell_type": "code",
   "execution_count": 1,
   "id": "dc7271e1",
   "metadata": {},
   "outputs": [],
   "source": [
    "import pandas as pd\n",
    "import numpy as np\n",
    "import openpyxl\n",
    "from openpyxl import load_workbook\n",
    "from openpyxl.utils.dataframe import dataframe_to_rows\n",
    "from openpyxl.styles import Font\n",
    "from openpyxl.styles import Alignment\n",
    "import time"
   ]
  },
  {
   "cell_type": "code",
   "execution_count": 5,
   "id": "4397fa7c",
   "metadata": {},
   "outputs": [],
   "source": [
    "file_data_xlsx = 'data/SPPU.xlsx'\n",
    "path_to_end_folder = 'data'"
   ]
  },
  {
   "cell_type": "code",
   "execution_count": 4,
   "id": "64063ca3",
   "metadata": {},
   "outputs": [],
   "source": [
    "def processing_result_sppu(row):\n",
    "    \"\"\"\n",
    "    Обработка результатов тестирования\n",
    "    \"\"\"\n",
    "\n",
    "    # Создаем словарь для хранения данных\n",
    "    dct_type = {'сфера работы с людьми': 0, 'сфера умственного труда': 0, 'сфера технических интересов': 0, 'сфера эстетики и искусства': 0,\n",
    "                'сфера физического труда, подвижной деятельности': 0,'сфера материальных интересов,  планово-экономических видов работ':0}\n",
    "    dct_error = {}  # словарь для хранения ошибочных  значений, для того чтобы было легче находить ошибки при обновлении\n",
    "    \n",
    "    # 1\n",
    "    if row[8] == 'общаться с самыми разными людьми;':\n",
    "        dct_type['сфера работы с людьми'] += 1\n",
    "    elif row[8] == 'что-нибудь делать своими руками – мебель, одежду,машины и т.д.;':\n",
    "        dct_type['сфера материальных интересов,  планово-экономических видов работ'] += 1\n",
    "    elif row[8] == 'снимать фильмы, рисовать, писать книги, выступать на сцене и т.д.':\n",
    "        dct_type['сфера эстетики и искусства'] += 1\n",
    "    else:\n",
    "        dct_error[1] = row[8]\n",
    "        \n",
    "    #2\n",
    "    if row[9] == 'художественная форма, мастерство писателя или режиссера;':\n",
    "        dct_type['сфера эстетики и искусства'] += 1\n",
    "    elif row[9] == 'сюжет, действие героев;':\n",
    "        dct_type['сфера физического труда, подвижной деятельности']\n",
    "        "
   ]
  },
  {
   "cell_type": "code",
   "execution_count": 6,
   "id": "bcfd509f",
   "metadata": {},
   "outputs": [
    {
     "name": "stdout",
     "output_type": "stream",
     "text": [
      "ID                                                          1329212219\n",
      "Дата_создания                                      2023-03-09 10:47:08\n",
      "Дата_изменения                                     2023-03-09 10:47:08\n",
      "ФИО                                              Будаев Олег Тимурович\n",
      "Населенный_пункт                                                 Пески\n",
      "Школа                                                               25\n",
      "Класс                                                              9 А\n",
      "Электронная_почта                                      t0r1n88@mail.ru\n",
      "8                    что-нибудь делать своими руками – мебель, одеж...\n",
      "9                                              сюжет, действие героев;\n",
      "10                                                    в области науки;\n",
      "11                                             начальником экспедиции.\n",
      "12                                              развитие производства;\n",
      "13                              разработкой новых технологий обучения.\n",
      "14                        внутреннее устройство экспонатов (механизм);\n",
      "15                                      ответственность, аккуратность.\n",
      "16                                            ставить различные опыты;\n",
      "17                                                    деловое общение;\n",
      "18                                               о машине нового типа;\n",
      "19                                                        технический;\n",
      "20                    поддержанию здоровья учащихся, занятиям спортом;\n",
      "21                                           научно-популярные фильмы;\n",
      "22                                            с машинами, механизмами;\n",
      "23                                             давать знания и умения;\n",
      "24                                         вести здоровый образ жизни;\n",
      "25                                       наука и технический прогресс.\n",
      "26                                                         математики;\n",
      "27                                 планировать производство продукции;\n",
      "28                                   о творчестве ученых и музыкантов;\n",
      "29                                                           с книгой;\n",
      "30                                                 о научном открытии.\n",
      "31                                                 в обычном кабинете.\n",
      "Name: 0, dtype: object\n"
     ]
    }
   ],
   "source": [
    "df = pd.read_excel(file_data_xlsx)\n",
    "\n",
    "# переименовываем колонки\n",
    "df.columns = range(df.shape[1])\n",
    "df.rename(columns={0: 'ID', 1: 'Дата_создания', 2: 'Дата_изменения', 3: 'ФИО', 4: 'Населенный_пункт', 5: 'Школа',\n",
    "                   6: 'Класс', 7: 'Электронная_почта'}, inplace=True)\n",
    "# делаем цифровые названия колонок строковыми\n",
    "df.columns = list(map(str, df.columns))\n",
    "\n",
    "df['Тип_профессии'] = df.apply(processing_result_sppu, axis=1)"
   ]
  },
  {
   "cell_type": "code",
   "execution_count": null,
   "id": "286dd596",
   "metadata": {},
   "outputs": [],
   "source": []
  },
  {
   "cell_type": "code",
   "execution_count": null,
   "id": "4656ff0c",
   "metadata": {},
   "outputs": [],
   "source": []
  },
  {
   "cell_type": "code",
   "execution_count": null,
   "id": "0b8d8476",
   "metadata": {},
   "outputs": [],
   "source": []
  }
 ],
 "metadata": {
  "kernelspec": {
   "display_name": "Python 3 (ipykernel)",
   "language": "python",
   "name": "python3"
  },
  "language_info": {
   "codemirror_mode": {
    "name": "ipython",
    "version": 3
   },
   "file_extension": ".py",
   "mimetype": "text/x-python",
   "name": "python",
   "nbconvert_exporter": "python",
   "pygments_lexer": "ipython3",
   "version": "3.9.13"
  }
 },
 "nbformat": 4,
 "nbformat_minor": 5
}
