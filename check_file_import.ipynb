{
 "cells": [
  {
   "cell_type": "code",
   "execution_count": 464,
   "id": "d98de616",
   "metadata": {},
   "outputs": [
    {
     "data": {
      "text/plain": [
       "'\\nСкрипт для проверки корректности заполнения файлов для импорта в Билет в будущее\\n'"
      ]
     },
     "execution_count": 464,
     "metadata": {},
     "output_type": "execute_result"
    }
   ],
   "source": [
    "\"\"\"\n",
    "Скрипт для проверки корректности заполнения файлов для импорта в Билет в будущее\n",
    "\"\"\""
   ]
  },
  {
   "cell_type": "code",
   "execution_count": 465,
   "id": "bd23afe0",
   "metadata": {},
   "outputs": [],
   "source": [
    "import pandas as pd\n",
    "import numpy as np\n",
    "import re\n",
    "import os"
   ]
  },
  {
   "cell_type": "code",
   "execution_count": null,
   "id": "4a457067",
   "metadata": {},
   "outputs": [],
   "source": []
  },
  {
   "cell_type": "code",
   "execution_count": 479,
   "id": "34a8783b",
   "metadata": {},
   "outputs": [],
   "source": [
    "def restore_inn_org(value):\n",
    "    \"\"\"\n",
    "    проверка и восстановление ИНН\n",
    "    \"\"\"\n",
    "    value = str(value)\n",
    "    print(len(value))\n",
    "    if len(value) == 9:\n",
    "        return '0'+value\n",
    "    elif len(value) == 10:\n",
    "        return value\n",
    "    else:\n",
    "        return 'Неправильный ИНН'\n",
    "    "
   ]
  },
  {
   "cell_type": "code",
   "execution_count": 467,
   "id": "77eebb81",
   "metadata": {},
   "outputs": [],
   "source": [
    "def restore_mun(value):\n",
    "    \"\"\"\n",
    "    Функция для восстановления правильного названия района\n",
    "    \"\"\"\n",
    "    value= str(value)\n",
    "    result = re.search(r'[А-Я][а-я]+[-]?',value)\n",
    "    if result:\n",
    "        mun_name = result.group()\n",
    "        for title in lst_mun:\n",
    "            if mun_name in title:\n",
    "                return title\n",
    "    else:\n",
    "        return 'Не найдено'\n",
    "        \n",
    "    \n"
   ]
  },
  {
   "cell_type": "code",
   "execution_count": 468,
   "id": "780befdc",
   "metadata": {},
   "outputs": [],
   "source": [
    "def divide_str(value):\n",
    "    \"\"\"\n",
    "    Функция для выделения первого слова в строке на случай если в ячейку было некорректно вставлено полное фио\n",
    "    \"\"\"\n",
    "    value = str(value)\n",
    "    return value.split(' ')[0]"
   ]
  },
  {
   "cell_type": "code",
   "execution_count": 480,
   "id": "70bd24fa",
   "metadata": {},
   "outputs": [],
   "source": [
    "path_to_end = 'data/обработанные файлы'\n",
    "# path_to_dir = 'data/необработанные файлы'\n",
    "path_to_dir = 'data/3'"
   ]
  },
  {
   "cell_type": "code",
   "execution_count": 481,
   "id": "5500ae6e",
   "metadata": {},
   "outputs": [],
   "source": [
    "munic_df = pd.read_excel('data/Муниципалитеты.xlsx')\n",
    "lst_mun = munic_df['Наименование'].to_list()"
   ]
  },
  {
   "cell_type": "code",
   "execution_count": null,
   "id": "978a9e99",
   "metadata": {},
   "outputs": [],
   "source": []
  },
  {
   "cell_type": "code",
   "execution_count": 483,
   "id": "8e31e9ea",
   "metadata": {},
   "outputs": [
    {
     "name": "stdout",
     "output_type": "stream",
     "text": [
      "7\n",
      "6\n",
      "6\n",
      "6\n",
      "6\n",
      "6\n",
      "6\n",
      "6\n",
      "6\n",
      "6\n",
      "7\n",
      "6\n",
      "6\n",
      "6\n",
      "6\n",
      "6\n",
      "6\n",
      "6\n",
      "6\n",
      "6\n",
      "6\n",
      "6\n",
      "6\n",
      "6\n",
      "6\n",
      "6\n",
      "6\n",
      "6\n",
      "6\n",
      "7\n",
      "6\n",
      "6\n",
      "6\n",
      "6\n",
      "6\n",
      "7\n",
      "6\n",
      "7\n",
      "6\n",
      "6\n",
      "6\n",
      "6\n",
      "6\n",
      "6\n",
      "6\n",
      "7\n",
      "6\n",
      "6\n",
      "6\n",
      "6\n",
      "6\n",
      "6\n",
      "6\n",
      "6\n",
      "6\n",
      "6\n",
      "7\n",
      "6\n",
      "6\n",
      "6\n",
      "6\n",
      "6\n",
      "6\n",
      "6\n",
      "6\n",
      "6\n"
     ]
    }
   ],
   "source": [
    "for file in os.listdir(path_to_dir):\n",
    "    df = pd.read_excel(f'{path_to_dir}./{file}')\n",
    "    df.fillna('',inplace=True)\n",
    "    \n",
    "    df['ИНН школы'] = df['ИНН школы'].apply(restore_inn_org) # восстанавливаем ИНН\n",
    "    df['Муниципалитет'] = df['Муниципалитет'].apply(restore_mun) # правильный муниципалитет\n",
    "    # очищаем от пробельных символов\n",
    "    df['Роль'] = df['Роль'].apply(lambda x:x.strip()) \n",
    "    df.iloc[:,4] = df.iloc[:,4].apply(lambda x:x.strip())\n",
    "    df['Фамилия'] = df['Фамилия'].apply(lambda x:x.strip())\n",
    "    df['Фамилия'] = df['Фамилия'].apply(divide_str)\n",
    "    df['Имя'] = df['Имя'].apply(lambda x:x.strip())\n",
    "    df['Отчество'] = df['Отчество'].apply(lambda x:x.strip())\n",
    "    \n",
    "    \n",
    "    \n",
    "    \n",
    "\n",
    "    \n",
    "    \n",
    "    df.to_excel(f'{path_to_end}/+_{file}',index=False)"
   ]
  },
  {
   "cell_type": "code",
   "execution_count": 484,
   "id": "99e831c1",
   "metadata": {},
   "outputs": [
    {
     "data": {
      "text/plain": [
       "0     Неправильный ИНН\n",
       "1     Неправильный ИНН\n",
       "2     Неправильный ИНН\n",
       "3     Неправильный ИНН\n",
       "4     Неправильный ИНН\n",
       "            ...       \n",
       "61    Неправильный ИНН\n",
       "62    Неправильный ИНН\n",
       "63    Неправильный ИНН\n",
       "64    Неправильный ИНН\n",
       "65    Неправильный ИНН\n",
       "Name: ИНН школы, Length: 66, dtype: object"
      ]
     },
     "execution_count": 484,
     "metadata": {},
     "output_type": "execute_result"
    }
   ],
   "source": [
    " df['ИНН школы']"
   ]
  },
  {
   "cell_type": "code",
   "execution_count": null,
   "id": "4de25778",
   "metadata": {},
   "outputs": [],
   "source": []
  },
  {
   "cell_type": "code",
   "execution_count": 473,
   "id": "50121eff",
   "metadata": {},
   "outputs": [
    {
     "name": "stdout",
     "output_type": "stream",
     "text": [
      "Lindy Booth\n"
     ]
    }
   ],
   "source": [
    "print('Lindy Booth')"
   ]
  },
  {
   "cell_type": "code",
   "execution_count": null,
   "id": "a02bff3b",
   "metadata": {},
   "outputs": [],
   "source": []
  },
  {
   "cell_type": "code",
   "execution_count": null,
   "id": "d30c6d8c",
   "metadata": {},
   "outputs": [],
   "source": []
  },
  {
   "cell_type": "code",
   "execution_count": null,
   "id": "62f7c6b1",
   "metadata": {},
   "outputs": [],
   "source": []
  },
  {
   "cell_type": "code",
   "execution_count": null,
   "id": "8cfa7b09",
   "metadata": {},
   "outputs": [],
   "source": [
    "\n"
   ]
  },
  {
   "cell_type": "code",
   "execution_count": null,
   "id": "58a0ebb1",
   "metadata": {},
   "outputs": [],
   "source": []
  },
  {
   "cell_type": "code",
   "execution_count": null,
   "id": "70bd80e4",
   "metadata": {},
   "outputs": [],
   "source": []
  },
  {
   "cell_type": "code",
   "execution_count": null,
   "id": "fa89e371",
   "metadata": {},
   "outputs": [],
   "source": []
  },
  {
   "cell_type": "code",
   "execution_count": null,
   "id": "aa11dbe4",
   "metadata": {},
   "outputs": [],
   "source": []
  },
  {
   "cell_type": "code",
   "execution_count": null,
   "id": "8751a3bf",
   "metadata": {},
   "outputs": [],
   "source": []
  },
  {
   "cell_type": "code",
   "execution_count": null,
   "id": "9370fc3a",
   "metadata": {},
   "outputs": [],
   "source": []
  },
  {
   "cell_type": "code",
   "execution_count": null,
   "id": "bf2a1976",
   "metadata": {},
   "outputs": [],
   "source": []
  },
  {
   "cell_type": "code",
   "execution_count": null,
   "id": "3f01b5d8",
   "metadata": {},
   "outputs": [],
   "source": []
  },
  {
   "cell_type": "code",
   "execution_count": null,
   "id": "df83a7c3",
   "metadata": {},
   "outputs": [],
   "source": []
  },
  {
   "cell_type": "code",
   "execution_count": null,
   "id": "e0a4830d",
   "metadata": {},
   "outputs": [],
   "source": []
  },
  {
   "cell_type": "code",
   "execution_count": null,
   "id": "56b4a164",
   "metadata": {},
   "outputs": [],
   "source": []
  }
 ],
 "metadata": {
  "kernelspec": {
   "display_name": "Python 3 (ipykernel)",
   "language": "python",
   "name": "python3"
  },
  "language_info": {
   "codemirror_mode": {
    "name": "ipython",
    "version": 3
   },
   "file_extension": ".py",
   "mimetype": "text/x-python",
   "name": "python",
   "nbconvert_exporter": "python",
   "pygments_lexer": "ipython3",
   "version": "3.9.13"
  }
 },
 "nbformat": 4,
 "nbformat_minor": 5
}
