{
 "cells": [
  {
   "cell_type": "code",
   "execution_count": 434,
   "id": "724e1ab0",
   "metadata": {},
   "outputs": [
    {
     "data": {
      "text/plain": [
       "'\\nСкрипт для проверки корректности заполнения файлов для импорта в Билет в будущее\\n'"
      ]
     },
     "execution_count": 434,
     "metadata": {},
     "output_type": "execute_result"
    }
   ],
   "source": [
    "\"\"\"\n",
    "Скрипт для проверки корректности заполнения файлов для импорта в Билет в будущее\n",
    "\"\"\""
   ]
  },
  {
   "cell_type": "code",
   "execution_count": 435,
   "id": "593fa4ad",
   "metadata": {},
   "outputs": [],
   "source": [
    "import pandas as pd\n",
    "import numpy as np\n",
    "import re\n",
    "import os"
   ]
  },
  {
   "cell_type": "code",
   "execution_count": null,
   "id": "d4ee423d",
   "metadata": {},
   "outputs": [],
   "source": []
  },
  {
   "cell_type": "code",
   "execution_count": 436,
   "id": "02cb8aff",
   "metadata": {},
   "outputs": [],
   "source": [
    "def restore_inn_org(value):\n",
    "    \"\"\"\n",
    "    проверка и восстановление ИНН\n",
    "    \"\"\"\n",
    "    value = str(value)\n",
    "    if len(value) == 9:\n",
    "        return '0'+value\n",
    "    elif len(value) == 10:\n",
    "        return value\n",
    "    else:\n",
    "        return 'Неправильный ИНН'\n",
    "    "
   ]
  },
  {
   "cell_type": "code",
   "execution_count": 437,
   "id": "339d4eca",
   "metadata": {},
   "outputs": [],
   "source": [
    "def restore_mun(value):\n",
    "    \"\"\"\n",
    "    Функция для восстановления правильного названия района\n",
    "    \"\"\"\n",
    "    value= str(value)\n",
    "    result = re.search(r'[А-Я][а-я]+[-]?',value)\n",
    "    if result:\n",
    "        mun_name = result.group()\n",
    "        for title in lst_mun:\n",
    "            if mun_name in title:\n",
    "                return title\n",
    "    else:\n",
    "        return 'Не найдено'\n",
    "        \n",
    "    \n"
   ]
  },
  {
   "cell_type": "code",
   "execution_count": 438,
   "id": "a2aa9884",
   "metadata": {},
   "outputs": [],
   "source": [
    "path_to_end = 'data/обработанные файлы'\n",
    "path_to_dir = 'data/необработанные файлы'"
   ]
  },
  {
   "cell_type": "code",
   "execution_count": 439,
   "id": "fe3eb995",
   "metadata": {},
   "outputs": [],
   "source": [
    "munic_df = pd.read_excel('data/Муниципалитеты.xlsx')\n",
    "lst_mun = munic_df['Наименование'].to_list()"
   ]
  },
  {
   "cell_type": "code",
   "execution_count": null,
   "id": "21712974",
   "metadata": {},
   "outputs": [],
   "source": []
  },
  {
   "cell_type": "code",
   "execution_count": 440,
   "id": "a0d91804",
   "metadata": {},
   "outputs": [
    {
     "name": "stderr",
     "output_type": "stream",
     "text": [
      "C:\\Users\\1\\anaconda3\\lib\\site-packages\\openpyxl\\worksheet\\_read_only.py:79: UserWarning: Data Validation extension is not supported and will be removed\n",
      "  for idx, row in parser.parse():\n"
     ]
    }
   ],
   "source": [
    "for file in os.listdir(path_to_dir):\n",
    "    df = pd.read_excel(f'{path_to_dir}./{file}')\n",
    "    df.fillna('',inplace=True)\n",
    "    \n",
    "    df['ИНН школы'] = df['ИНН школы'].apply(restore_inn_org) # восстанавливаем ИНН\n",
    "    df['Муниципалитет'] = df['Муниципалитет'].apply(restore_mun) # правильный муниципалитет\n",
    "    # очищаем от пробельных символов\n",
    "    df['Роль'] = df['Роль'].apply(lambda x:x.strip()) \n",
    "    df.iloc[:,4] = df.iloc[:,4].apply(lambda x:x.strip())\n",
    "    df['Фамилия'] = df['Фамилия'].apply(lambda x:x.strip())\n",
    "    df['Имя'] = df['Имя'].apply(lambda x:x.strip())\n",
    "    df['Отчество'] = df['Отчество'].apply(lambda x:x.strip())\n",
    "\n",
    "    \n",
    "    \n",
    "    df.to_excel(f'{path_to_end}/+_{file}',index=False)"
   ]
  },
  {
   "cell_type": "code",
   "execution_count": 441,
   "id": "fb0d9f90",
   "metadata": {},
   "outputs": [
    {
     "data": {
      "text/plain": [
       "0        Николаевна\n",
       "1           Юрьевна\n",
       "2      Вячеславович\n",
       "3         Андреевич\n",
       "4         Сергеевич\n",
       "          ...      \n",
       "56    Александровна\n",
       "57        Андреевна\n",
       "58       Максимович\n",
       "59        Романовна\n",
       "60                 \n",
       "Name: Отчество, Length: 61, dtype: object"
      ]
     },
     "execution_count": 441,
     "metadata": {},
     "output_type": "execute_result"
    }
   ],
   "source": [
    " df.iloc[:,7]"
   ]
  },
  {
   "cell_type": "code",
   "execution_count": null,
   "id": "4ef9640f",
   "metadata": {},
   "outputs": [],
   "source": []
  },
  {
   "cell_type": "code",
   "execution_count": 442,
   "id": "3ea81b72",
   "metadata": {},
   "outputs": [
    {
     "name": "stdout",
     "output_type": "stream",
     "text": [
      "Lindy Booth\n"
     ]
    }
   ],
   "source": [
    "print('Lindy Booth')"
   ]
  },
  {
   "cell_type": "code",
   "execution_count": null,
   "id": "1c84c7b2",
   "metadata": {},
   "outputs": [],
   "source": []
  },
  {
   "cell_type": "code",
   "execution_count": null,
   "id": "ae6a36f8",
   "metadata": {},
   "outputs": [],
   "source": []
  },
  {
   "cell_type": "code",
   "execution_count": null,
   "id": "5ec472fb",
   "metadata": {},
   "outputs": [],
   "source": []
  },
  {
   "cell_type": "code",
   "execution_count": null,
   "id": "5351abf9",
   "metadata": {},
   "outputs": [],
   "source": [
    "\n"
   ]
  },
  {
   "cell_type": "code",
   "execution_count": null,
   "id": "f1599f4c",
   "metadata": {},
   "outputs": [],
   "source": []
  },
  {
   "cell_type": "code",
   "execution_count": null,
   "id": "d0283397",
   "metadata": {},
   "outputs": [],
   "source": []
  },
  {
   "cell_type": "code",
   "execution_count": null,
   "id": "eeac2beb",
   "metadata": {},
   "outputs": [],
   "source": []
  },
  {
   "cell_type": "code",
   "execution_count": null,
   "id": "077f3a82",
   "metadata": {},
   "outputs": [],
   "source": []
  },
  {
   "cell_type": "code",
   "execution_count": null,
   "id": "a5168bd6",
   "metadata": {},
   "outputs": [],
   "source": []
  },
  {
   "cell_type": "code",
   "execution_count": null,
   "id": "4f564fac",
   "metadata": {},
   "outputs": [],
   "source": []
  },
  {
   "cell_type": "code",
   "execution_count": null,
   "id": "b433cd93",
   "metadata": {},
   "outputs": [],
   "source": []
  },
  {
   "cell_type": "code",
   "execution_count": null,
   "id": "1c600ee3",
   "metadata": {},
   "outputs": [],
   "source": []
  },
  {
   "cell_type": "code",
   "execution_count": null,
   "id": "e45f445b",
   "metadata": {},
   "outputs": [],
   "source": []
  },
  {
   "cell_type": "code",
   "execution_count": null,
   "id": "78c40048",
   "metadata": {},
   "outputs": [],
   "source": []
  },
  {
   "cell_type": "code",
   "execution_count": null,
   "id": "32bf221d",
   "metadata": {},
   "outputs": [],
   "source": []
  }
 ],
 "metadata": {
  "kernelspec": {
   "display_name": "Python 3 (ipykernel)",
   "language": "python",
   "name": "python3"
  },
  "language_info": {
   "codemirror_mode": {
    "name": "ipython",
    "version": 3
   },
   "file_extension": ".py",
   "mimetype": "text/x-python",
   "name": "python",
   "nbconvert_exporter": "python",
   "pygments_lexer": "ipython3",
   "version": "3.9.13"
  }
 },
 "nbformat": 4,
 "nbformat_minor": 5
}
