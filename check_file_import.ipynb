{
 "cells": [
  {
   "cell_type": "code",
   "execution_count": 260,
   "id": "41c80728",
   "metadata": {},
   "outputs": [
    {
     "data": {
      "text/plain": [
       "'\\nСкрипт для проверки корректности заполнения файлов для импорта в Билет в будущее\\n'"
      ]
     },
     "execution_count": 260,
     "metadata": {},
     "output_type": "execute_result"
    }
   ],
   "source": [
    "\"\"\"\n",
    "Скрипт для проверки корректности заполнения файлов для импорта в Билет в будущее\n",
    "\"\"\""
   ]
  },
  {
   "cell_type": "code",
   "execution_count": 261,
   "id": "5b102473",
   "metadata": {},
   "outputs": [],
   "source": [
    "import pandas as pd\n",
    "import numpy as np"
   ]
  },
  {
   "cell_type": "code",
   "execution_count": 262,
   "id": "a2a56d86",
   "metadata": {},
   "outputs": [],
   "source": [
    "name_file = '33 гимназия'"
   ]
  },
  {
   "cell_type": "code",
   "execution_count": 263,
   "id": "a970d6f3",
   "metadata": {},
   "outputs": [],
   "source": [
    "def check_email_teacher(df,name_file):\n",
    "    pass"
   ]
  },
  {
   "cell_type": "code",
   "execution_count": null,
   "id": "8fe999d6",
   "metadata": {},
   "outputs": [],
   "source": []
  },
  {
   "cell_type": "code",
   "execution_count": 264,
   "id": "47fbe344",
   "metadata": {},
   "outputs": [],
   "source": [
    "def assign_email_chldren(row):\n",
    "    \"\"\"\n",
    "    Функция заменяет в строках где в колонке Роль написано ученик на заглушку mail@mail.ru\n",
    "    \"\"\"\n",
    "    if row['Роль'] =='ученик':\n",
    "        if row['Email'] is np.nan:\n",
    "            return 'mail@mail.ru'\n",
    "        else:\n",
    "            return row['Email']\n",
    "    else:\n",
    "        return row['Email']\n",
    "\n"
   ]
  },
  {
   "cell_type": "code",
   "execution_count": 265,
   "id": "4c324d95",
   "metadata": {},
   "outputs": [],
   "source": [
    "def check_email_teacher(row):\n",
    "    \"\"\"\n",
    "    Фунцкция для проверки заполнения учителем email\n",
    "    \"\"\"\n",
    "    "
   ]
  },
  {
   "cell_type": "code",
   "execution_count": 266,
   "id": "570d83b2",
   "metadata": {},
   "outputs": [],
   "source": [
    "df = pd.read_excel('data/33 гимназия.xlsx',dtype=str)"
   ]
  },
  {
   "cell_type": "code",
   "execution_count": 267,
   "id": "60b92082",
   "metadata": {},
   "outputs": [],
   "source": [
    "error_df = pd.DataFrame(columns=['Название файла','Строка ошибки','Колонка ошибки','Описание ошибки'])"
   ]
  },
  {
   "cell_type": "code",
   "execution_count": 268,
   "id": "de95e1d3",
   "metadata": {},
   "outputs": [
    {
     "data": {
      "text/html": [
       "<div>\n",
       "<style scoped>\n",
       "    .dataframe tbody tr th:only-of-type {\n",
       "        vertical-align: middle;\n",
       "    }\n",
       "\n",
       "    .dataframe tbody tr th {\n",
       "        vertical-align: top;\n",
       "    }\n",
       "\n",
       "    .dataframe thead th {\n",
       "        text-align: right;\n",
       "    }\n",
       "</style>\n",
       "<table border=\"1\" class=\"dataframe\">\n",
       "  <thead>\n",
       "    <tr style=\"text-align: right;\">\n",
       "      <th></th>\n",
       "      <th>Название файла</th>\n",
       "      <th>Строка ошибки</th>\n",
       "      <th>Колонка ошибки</th>\n",
       "      <th>Описание ошибки</th>\n",
       "    </tr>\n",
       "  </thead>\n",
       "  <tbody>\n",
       "  </tbody>\n",
       "</table>\n",
       "</div>"
      ],
      "text/plain": [
       "Empty DataFrame\n",
       "Columns: [Название файла, Строка ошибки, Колонка ошибки, Описание ошибки]\n",
       "Index: []"
      ]
     },
     "execution_count": 268,
     "metadata": {},
     "output_type": "execute_result"
    }
   ],
   "source": [
    "error_df"
   ]
  },
  {
   "cell_type": "code",
   "execution_count": 269,
   "id": "367d6058",
   "metadata": {},
   "outputs": [
    {
     "data": {
      "text/html": [
       "<div>\n",
       "<style scoped>\n",
       "    .dataframe tbody tr th:only-of-type {\n",
       "        vertical-align: middle;\n",
       "    }\n",
       "\n",
       "    .dataframe tbody tr th {\n",
       "        vertical-align: top;\n",
       "    }\n",
       "\n",
       "    .dataframe thead th {\n",
       "        text-align: right;\n",
       "    }\n",
       "</style>\n",
       "<table border=\"1\" class=\"dataframe\">\n",
       "  <thead>\n",
       "    <tr style=\"text-align: right;\">\n",
       "      <th></th>\n",
       "      <th>Муниципалитет</th>\n",
       "      <th>Название школы</th>\n",
       "      <th>ИНН школы</th>\n",
       "      <th>Роль</th>\n",
       "      <th>Email</th>\n",
       "      <th>Фамилия</th>\n",
       "      <th>Имя</th>\n",
       "      <th>Отчество</th>\n",
       "      <th>Пол (М или Ж)</th>\n",
       "      <th>Дата рождения (ДД.ММ.ГГГГ)</th>\n",
       "      <th>Номер класса 6-11</th>\n",
       "      <th>Буква класса</th>\n",
       "    </tr>\n",
       "  </thead>\n",
       "  <tbody>\n",
       "    <tr>\n",
       "      <th>0</th>\n",
       "      <td>город Улан-Удэ</td>\n",
       "      <td>МАОУ «Гимназия №33 г. Улан-Удэ»</td>\n",
       "      <td>0323087898</td>\n",
       "      <td>учитель</td>\n",
       "      <td>NaN</td>\n",
       "      <td>Шведова</td>\n",
       "      <td>Татьяна</td>\n",
       "      <td>Алексеевна</td>\n",
       "      <td>Ж</td>\n",
       "      <td>24.10.1989</td>\n",
       "      <td>8</td>\n",
       "      <td>Б</td>\n",
       "    </tr>\n",
       "    <tr>\n",
       "      <th>1</th>\n",
       "      <td>город Улан-Удэ</td>\n",
       "      <td>МАОУ «Гимназия №33 г. Улан-Удэ»</td>\n",
       "      <td>0323087898</td>\n",
       "      <td>ученик</td>\n",
       "      <td>shedova_ta_33@mail.ru</td>\n",
       "      <td>Амагаев</td>\n",
       "      <td>Егор</td>\n",
       "      <td>Вадимович</td>\n",
       "      <td>М</td>\n",
       "      <td>2008-11-19 00:00:00</td>\n",
       "      <td>8</td>\n",
       "      <td>Б</td>\n",
       "    </tr>\n",
       "    <tr>\n",
       "      <th>2</th>\n",
       "      <td>город Улан-Удэ</td>\n",
       "      <td>МАОУ «Гимназия №33 г. Улан-Удэ»</td>\n",
       "      <td>0323087898</td>\n",
       "      <td>ученик</td>\n",
       "      <td>NaN</td>\n",
       "      <td>Апханов</td>\n",
       "      <td>Даниил</td>\n",
       "      <td>Денисович</td>\n",
       "      <td>М</td>\n",
       "      <td>2009-02-26 00:00:00</td>\n",
       "      <td>8</td>\n",
       "      <td>Б</td>\n",
       "    </tr>\n",
       "    <tr>\n",
       "      <th>3</th>\n",
       "      <td>город Улан-Удэ</td>\n",
       "      <td>МАОУ «Гимназия №33 г. Улан-Удэ»</td>\n",
       "      <td>0323087898</td>\n",
       "      <td>ученик</td>\n",
       "      <td>NaN</td>\n",
       "      <td>Баенгуев</td>\n",
       "      <td>Матвей</td>\n",
       "      <td>Леонидович</td>\n",
       "      <td>М</td>\n",
       "      <td>2008-08-29 00:00:00</td>\n",
       "      <td>8</td>\n",
       "      <td>Б</td>\n",
       "    </tr>\n",
       "    <tr>\n",
       "      <th>4</th>\n",
       "      <td>город Улан-Удэ</td>\n",
       "      <td>МАОУ «Гимназия №33 г. Улан-Удэ»</td>\n",
       "      <td>0323087898</td>\n",
       "      <td>ученик</td>\n",
       "      <td>NaN</td>\n",
       "      <td>Бартанова</td>\n",
       "      <td>Анна</td>\n",
       "      <td>Романовна</td>\n",
       "      <td>Ж</td>\n",
       "      <td>2008-01-26 00:00:00</td>\n",
       "      <td>8</td>\n",
       "      <td>Б</td>\n",
       "    </tr>\n",
       "  </tbody>\n",
       "</table>\n",
       "</div>"
      ],
      "text/plain": [
       "    Муниципалитет                   Название школы   ИНН школы     Роль  \\\n",
       "0  город Улан-Удэ  МАОУ «Гимназия №33 г. Улан-Удэ»  0323087898  учитель   \n",
       "1  город Улан-Удэ  МАОУ «Гимназия №33 г. Улан-Удэ»  0323087898   ученик   \n",
       "2  город Улан-Удэ  МАОУ «Гимназия №33 г. Улан-Удэ»  0323087898   ученик   \n",
       "3  город Улан-Удэ  МАОУ «Гимназия №33 г. Улан-Удэ»  0323087898   ученик   \n",
       "4  город Улан-Удэ  МАОУ «Гимназия №33 г. Улан-Удэ»  0323087898   ученик   \n",
       "\n",
       "                   Email     Фамилия      Имя    Отчество Пол (М или Ж)  \\\n",
       "0                    NaN     Шведова  Татьяна  Алексеевна             Ж   \n",
       "1  shedova_ta_33@mail.ru   Амагаев       Егор   Вадимович             М   \n",
       "2                    NaN   Апханов     Даниил   Денисович             М   \n",
       "3                    NaN  Баенгуев     Матвей  Леонидович             М   \n",
       "4                    NaN  Бартанова     Анна    Романовна             Ж   \n",
       "\n",
       "  Дата рождения (ДД.ММ.ГГГГ) Номер класса 6-11 Буква класса  \n",
       "0                 24.10.1989                 8            Б  \n",
       "1        2008-11-19 00:00:00                 8            Б  \n",
       "2        2009-02-26 00:00:00                 8            Б  \n",
       "3        2008-08-29 00:00:00                 8            Б  \n",
       "4        2008-01-26 00:00:00                 8            Б  "
      ]
     },
     "execution_count": 269,
     "metadata": {},
     "output_type": "execute_result"
    }
   ],
   "source": [
    "df.head()"
   ]
  },
  {
   "cell_type": "code",
   "execution_count": null,
   "id": "17253016",
   "metadata": {},
   "outputs": [],
   "source": []
  },
  {
   "cell_type": "code",
   "execution_count": 270,
   "id": "cdafdc5d",
   "metadata": {},
   "outputs": [],
   "source": [
    "df['Email'] = df.apply(assign_email_chldren,axis=1) # заполняем емайлы учеников если они не заполнены\n",
    "\n"
   ]
  },
  {
   "cell_type": "code",
   "execution_count": 271,
   "id": "79b1bfda",
   "metadata": {},
   "outputs": [],
   "source": [
    "nan_rows = df.isnull().any(axis=1) # получаем индексы где пропущены значения\n",
    "nan_columns = df.columns[df.isnull().any()]"
   ]
  },
  {
   "cell_type": "code",
   "execution_count": 272,
   "id": "751542ce",
   "metadata": {},
   "outputs": [
    {
     "data": {
      "text/plain": [
       "0       True\n",
       "1      False\n",
       "2      False\n",
       "3      False\n",
       "4      False\n",
       "       ...  \n",
       "119    False\n",
       "120    False\n",
       "121    False\n",
       "122    False\n",
       "123     True\n",
       "Length: 124, dtype: bool"
      ]
     },
     "execution_count": 272,
     "metadata": {},
     "output_type": "execute_result"
    }
   ],
   "source": [
    "nan_rows"
   ]
  },
  {
   "cell_type": "code",
   "execution_count": 273,
   "id": "9a75aed0",
   "metadata": {},
   "outputs": [
    {
     "data": {
      "text/plain": [
       "Index(['Email', 'Буква класса'], dtype='object')"
      ]
     },
     "execution_count": 273,
     "metadata": {},
     "output_type": "execute_result"
    }
   ],
   "source": [
    "nan_columns"
   ]
  },
  {
   "cell_type": "code",
   "execution_count": 274,
   "id": "5724853a",
   "metadata": {},
   "outputs": [],
   "source": [
    "for index, row in df[nan_rows].iterrows():\n",
    "    for column in nan_columns:\n",
    "        if pd.isnull(row[column]):\n",
    "            _df = pd.DataFrame([[name_file,index+2,column,'Обнаружена незаполненная ячейка']],\n",
    "                              columns=['Название файла','Строка ошибки','Колонка ошибки','Описание ошибки'])\n",
    "            error_df = pd.concat([error_df,_df],ignore_index=True)\n"
   ]
  },
  {
   "cell_type": "code",
   "execution_count": 275,
   "id": "43e9369d",
   "metadata": {},
   "outputs": [
    {
     "data": {
      "text/html": [
       "<div>\n",
       "<style scoped>\n",
       "    .dataframe tbody tr th:only-of-type {\n",
       "        vertical-align: middle;\n",
       "    }\n",
       "\n",
       "    .dataframe tbody tr th {\n",
       "        vertical-align: top;\n",
       "    }\n",
       "\n",
       "    .dataframe thead th {\n",
       "        text-align: right;\n",
       "    }\n",
       "</style>\n",
       "<table border=\"1\" class=\"dataframe\">\n",
       "  <thead>\n",
       "    <tr style=\"text-align: right;\">\n",
       "      <th></th>\n",
       "      <th>Название файла</th>\n",
       "      <th>Строка ошибки</th>\n",
       "      <th>Колонка ошибки</th>\n",
       "      <th>Описание ошибки</th>\n",
       "    </tr>\n",
       "  </thead>\n",
       "  <tbody>\n",
       "    <tr>\n",
       "      <th>0</th>\n",
       "      <td>33 гимназия</td>\n",
       "      <td>2</td>\n",
       "      <td>Email</td>\n",
       "      <td>Обнаружена незаполненная ячейка</td>\n",
       "    </tr>\n",
       "    <tr>\n",
       "      <th>1</th>\n",
       "      <td>33 гимназия</td>\n",
       "      <td>125</td>\n",
       "      <td>Буква класса</td>\n",
       "      <td>Обнаружена незаполненная ячейка</td>\n",
       "    </tr>\n",
       "  </tbody>\n",
       "</table>\n",
       "</div>"
      ],
      "text/plain": [
       "  Название файла Строка ошибки Колонка ошибки                  Описание ошибки\n",
       "0    33 гимназия             2          Email  Обнаружена незаполненная ячейка\n",
       "1    33 гимназия           125   Буква класса  Обнаружена незаполненная ячейка"
      ]
     },
     "execution_count": 275,
     "metadata": {},
     "output_type": "execute_result"
    }
   ],
   "source": [
    "error_df"
   ]
  },
  {
   "cell_type": "code",
   "execution_count": 276,
   "id": "9ae99b27",
   "metadata": {},
   "outputs": [],
   "source": [
    "#df = df.applymap(str)"
   ]
  },
  {
   "cell_type": "code",
   "execution_count": null,
   "id": "19cbd321",
   "metadata": {},
   "outputs": [],
   "source": []
  },
  {
   "cell_type": "code",
   "execution_count": null,
   "id": "e5e3f1b2",
   "metadata": {},
   "outputs": [],
   "source": []
  }
 ],
 "metadata": {
  "kernelspec": {
   "display_name": "Python 3 (ipykernel)",
   "language": "python",
   "name": "python3"
  },
  "language_info": {
   "codemirror_mode": {
    "name": "ipython",
    "version": 3
   },
   "file_extension": ".py",
   "mimetype": "text/x-python",
   "name": "python",
   "nbconvert_exporter": "python",
   "pygments_lexer": "ipython3",
   "version": "3.9.13"
  }
 },
 "nbformat": 4,
 "nbformat_minor": 5
}
